{
 "cells": [
  {
   "cell_type": "code",
   "execution_count": 1,
   "metadata": {},
   "outputs": [],
   "source": [
    "import matplotlib.pyplot as plt\n",
    "import numpy as np\n",
    "import csv\n",
    "import pandas as pd\n",
    "from sklearn.linear_model import LinearRegression\n",
    "from sklearn.model_selection import train_test_split"
   ]
  },
  {
   "cell_type": "code",
   "execution_count": 2,
   "metadata": {},
   "outputs": [],
   "source": [
    "df = pd.read_csv(\"USA_Predictors_of_How_Counties_Vote.csv\") "
   ]
  },
  {
   "cell_type": "code",
   "execution_count": 3,
   "metadata": {},
   "outputs": [
    {
     "name": "stdout",
     "output_type": "stream",
     "text": [
      "      Margin D  % Home Ownership  % Married Couples  % Poverty  \\\n",
      "0       -44.42           73.2906            67.0875    15.1852   \n",
      "1       -53.76           75.2453            64.4356    10.3541   \n",
      "2        -7.66           60.8989            50.9544    30.6687   \n",
      "3       -57.73           74.4159            59.0777    18.1272   \n",
      "4       -80.00           78.7787            68.7730    13.5515   \n",
      "...        ...               ...                ...        ...   \n",
      "3107    -50.63           76.2224            66.4696    11.4554   \n",
      "3108     37.52           60.4058            58.2010     6.1497   \n",
      "3109    -62.81           77.0567            73.9561    11.3431   \n",
      "3110    -64.65           76.4933            67.9411    10.5055   \n",
      "3111    -77.56           83.0163            69.0714    14.4731   \n",
      "\n",
      "      % Bachelor's Degree or Higher  % Less than High School  \\\n",
      "0                           26.5716                  11.4834   \n",
      "1                           31.8625                   9.1938   \n",
      "2                           11.5787                  26.7869   \n",
      "3                           10.3785                  20.9426   \n",
      "4                           13.0934                  19.5094   \n",
      "...                             ...                      ...   \n",
      "3107                        22.4984                   7.2134   \n",
      "3108                        57.0051                   4.8144   \n",
      "3109                        16.0290                   7.2586   \n",
      "3110                        23.3862                  10.2416   \n",
      "3111                        19.9725                   6.3495   \n",
      "\n",
      "      % Non-Hispanic White  % Black  % Native  % Asian  % Hispanic  \\\n",
      "0                  74.6027  19.0033    0.2528   1.0347      2.8259   \n",
      "1                  83.0724   9.1740    0.6536   0.9186      4.5628   \n",
      "2                  45.8105  47.4390    0.2918   0.4771      4.3571   \n",
      "3                  74.5254  22.1447    0.1334   0.1200      2.5741   \n",
      "4                  86.8934   1.5274    0.0693   0.3675      9.2613   \n",
      "...                    ...      ...       ...      ...         ...   \n",
      "3107               79.5570   1.1213    1.0156   0.7399     15.8843   \n",
      "3108               81.3359   1.2414    0.3308   1.2500     15.0258   \n",
      "3109               87.5189   0.1123    0.6543   0.1563      9.1313   \n",
      "3110               81.8986   0.0374    0.5232   0.0000     14.2270   \n",
      "3111               96.3683   0.2270    0.1702   0.7661      1.0782   \n",
      "\n",
      "      % Foreign Born  \n",
      "0             2.3456  \n",
      "1             3.7232  \n",
      "2             2.7168  \n",
      "3             1.5116  \n",
      "4             4.5405  \n",
      "...              ...  \n",
      "3107          4.6713  \n",
      "3108         11.7784  \n",
      "3109          2.9005  \n",
      "3110          1.5572  \n",
      "3111          1.7024  \n",
      "\n",
      "[3112 rows x 12 columns]\n"
     ]
    }
   ],
   "source": [
    "print(df)"
   ]
  },
  {
   "cell_type": "code",
   "execution_count": 4,
   "metadata": {},
   "outputs": [],
   "source": [
    "x=df.drop([\"Margin D\"],axis=1).values\n",
    "y=df[\"Margin D\"].values"
   ]
  },
  {
   "cell_type": "code",
   "execution_count": 5,
   "metadata": {},
   "outputs": [
    {
     "name": "stdout",
     "output_type": "stream",
     "text": [
      "[-44.42 -53.76  -7.66 ... -62.81 -64.65 -77.56]\n"
     ]
    }
   ],
   "source": [
    "print(y)"
   ]
  },
  {
   "cell_type": "code",
   "execution_count": 6,
   "metadata": {},
   "outputs": [],
   "source": [
    "x_train,x_test,y_train,y_test,=train_test_split(x,y,test_size=0.2,random_state=0)"
   ]
  },
  {
   "cell_type": "code",
   "execution_count": 7,
   "metadata": {},
   "outputs": [
    {
     "data": {
      "text/plain": [
       "LinearRegression()"
      ]
     },
     "execution_count": 7,
     "metadata": {},
     "output_type": "execute_result"
    }
   ],
   "source": [
    "ml=LinearRegression()\n",
    "ml.fit(x_train,y_train)"
   ]
  },
  {
   "cell_type": "code",
   "execution_count": 8,
   "metadata": {},
   "outputs": [
    {
     "name": "stdout",
     "output_type": "stream",
     "text": [
      "[ -30.87586578  -37.74641555  -45.1774641   -45.6871377   -57.28493709\n",
      "  -59.04602829  -45.50367297  -41.15750468  -19.14169852  -36.05324651\n",
      "  -64.33271174  -63.87358736  -53.69787478  -47.41249516  -31.39862627\n",
      "   13.36913422  -56.35907499  -51.55922942  -31.53115523   10.51332969\n",
      "  -13.83234623  -32.19267816  -47.90134794  -57.32304992  -72.37267974\n",
      "   -8.03032614  -34.89534902  -50.69624403  -12.96015325  -48.10503609\n",
      "  -46.61467251  -11.28332688  -46.89362004  -10.11591946  -48.32858341\n",
      "  -55.12848311  -44.84657237  -52.08171874  -28.11898438  -50.94607698\n",
      "  -28.97354034  -79.99464969  -16.06585504  -43.95353405    9.80933988\n",
      "  -20.39266885  -27.58865213  -36.01838499  -45.81180028  -51.65297799\n",
      "  -36.53600575  -48.38532402  -53.22734562   -6.32419014  -22.61374937\n",
      "  -64.94647615  -12.96495887  -34.43563709  -18.89368694  -38.15925059\n",
      "  -54.04865097    3.36180534  -41.11442089  -44.52842592   23.94404401\n",
      "   -4.11728233  -34.4488813   -50.50068744  -54.2096183   -67.05028082\n",
      "  -46.65419587  -41.77582699  -36.83209434  -42.85071545  -11.85651589\n",
      "  -39.1881823    26.70011538  -26.33191973  -29.53035632  -17.84108885\n",
      "   42.24045356  -48.77151739  -39.010312    -52.48626284  -24.79068821\n",
      "  -10.36316788  -21.54592195  -70.86345914  -38.44091773  -30.34958645\n",
      "  -45.25226575  -52.11231256  -33.81869382  -27.32489392    2.50288037\n",
      "  -52.06065126  -38.84566011   29.90015083  -17.44091995  -27.64554993\n",
      "  -59.05693887  -16.97065079  -50.38266585  -50.45469897  -15.9456167\n",
      "   35.90875148  -35.38155807  -39.08549129  -70.62871692  -29.02853895\n",
      "  -42.70292008  -27.72723118  -67.31786635   -2.54465585  -55.2354787\n",
      "  -84.44445738  -57.0564399   -29.07951203  -30.40289961  -56.17615391\n",
      "  -17.96518449  -53.20835449  -17.75185056  -48.46090648  -36.50412382\n",
      "  -35.422499    -47.48091872  -37.07407439  -31.15762838  -20.14626206\n",
      "  -64.14840613   18.49610216  -53.81094249  -18.57443775  -36.26814421\n",
      "   -8.4431964   -30.68035926  -70.92959081  -62.63940284  -23.13712239\n",
      "  -68.13779515  -48.91857507  -51.49431682  -40.92775711  -58.23997723\n",
      "   -5.16357294  -55.79019315  -43.28394132  -53.30880305  -18.65959935\n",
      "  -33.85887375  -56.51206232  -16.14813979  -45.16396517  -52.6448248\n",
      "  -32.25346431  -53.25575568  -46.09256488  -60.58304545  -25.70784109\n",
      "  -36.08897157  -45.93182248  -56.76582936  -36.37712248    1.22523846\n",
      "  -58.65928668  -31.73950981   16.36201194   -5.75870427  -28.58633138\n",
      "  -41.01312451    2.23657843  -26.36990199    5.87168745  -15.4526863\n",
      "   -6.12579291  -22.51642252  -50.18881526   17.16783094  -19.90307265\n",
      "  -46.83278447  -50.3584827    23.1174517   -19.42073869  -50.07703754\n",
      "  -33.89715527  -27.33818128  -55.0239074   -57.29345135   -3.36426014\n",
      "  -55.38511326  -46.45744456  -51.25596443  -23.29783035  -46.29666169\n",
      "  -33.41233441  -69.80520917  -53.01709156   -1.92027561  -40.56764356\n",
      "  -46.72959823   -8.70481446  -27.07842724    4.26280709  -54.98796651\n",
      "  -63.37947558  -39.79655945  -35.9613431   -34.23886124   -6.47463493\n",
      "  -54.60824336  -72.73813594  -17.40967307  -56.8529233   -19.155159\n",
      "  -47.19965956  -44.9402879   -43.54610506  -53.73750926  -35.81871184\n",
      "  -75.67534665  -68.86741905  -21.76727482  -45.81187988  -45.94011342\n",
      "  -51.35355181  -45.39699334  -34.51209909  -17.69959093  -42.20285129\n",
      "  -47.99857295  -54.09334638  -43.52710158  -15.31116834  -36.85385086\n",
      "  -49.42941684  -48.42987948   -3.98007898   26.85033124  -22.09381029\n",
      "  -45.63971097  -34.69458473  -47.55800067  -44.2694132   -45.3790988\n",
      "   -5.90940883    0.54110053   -9.46679471  -45.77806565  -64.36642799\n",
      "  -43.60949194  -43.7755864   -43.18119453  -51.25937954  -21.34055548\n",
      "  -47.16275575  -31.36602844  -28.76140472  -25.80465937  -61.65193192\n",
      "  -55.66278336  -42.61564689   10.92064897  -56.17596163  -65.89379523\n",
      "  -19.19185246   -7.1609209    33.19900167   -8.16706995  -40.64735325\n",
      "  -71.70167922   21.95010203    2.32497645   34.08045959  -27.37965667\n",
      "  -48.85416818  -10.50225968  -45.07589404  -38.23601633  -59.27399496\n",
      "  -49.10271415  -46.74007283  -48.94598838  -16.4149346   -12.1453607\n",
      "  -23.11958237  -59.57294184  -39.0006692   -70.17743849   18.66648916\n",
      "  -39.85562317  -37.74988397  -16.93452402  -54.35553925   -7.29468885\n",
      "    4.3594176   -16.19792182  -26.9438115  -104.9618216   -59.74465016\n",
      "  -48.69684062  -45.36054682  -57.04093167  -28.67605689  -55.31735744\n",
      "   -4.17574011  -48.41936347   -4.59170839  -74.33774496  -63.6535509\n",
      "    2.5236772   -46.24897502   14.74505983  -23.05676268  -11.05104039\n",
      "  -31.97973562  -41.5447079    41.29495359   73.50196373  -70.21550199\n",
      "  -11.04498941  -49.35319789  -57.16613352  -51.94108362  -44.35596815\n",
      "  -56.78775277  -34.89078192  -39.52294915  -68.35887459  -40.14214251\n",
      "  -57.60795821   -4.72860944  -41.96873279  -53.56312417  -45.41420491\n",
      "  -50.26573833  -23.87865685    0.18614854  -18.20592364  -73.45611998\n",
      "  -30.4036602   -57.87534379  -47.29340156  -11.56196652    4.07516729\n",
      "   -9.60770599  -66.03656228  -85.34323821  -60.48167516  -16.05849196\n",
      "  -36.20722053  -38.1635995   -28.47855158  -38.15448399   42.26247605\n",
      "  -43.41645607  -33.41687207  -41.96365282  -17.98536265  -55.89370412\n",
      "   -8.55018835  -23.95837441  -53.49819958  -66.32284043    1.22201942\n",
      "  -60.79081673  -32.4734797   -33.65637353  -38.63277287  -78.65262459\n",
      "  -61.90791898  -25.68603467  -40.74669131  -14.79443966  -26.07667096\n",
      "   -6.92814934   19.36682032  -13.75975329  -38.70776245  -57.71355522\n",
      "  -48.14723703  -50.8400148   -55.63099403   11.5222205   -16.5203918\n",
      "   13.025156    -13.92582234  -18.7547193   -58.86180706  -11.94829051\n",
      "   -8.52003123  -49.53005627  -45.51979448  -49.04869669   -7.51513369\n",
      "  -38.1554358   -48.29766435  -47.09624754  -16.92275596  -24.89946641\n",
      "  -28.15445833  -19.40656297   44.46990667  -43.83703959  -12.99395128\n",
      "   -8.23276714  -36.55586771   41.6395279   -46.68353317  -67.33855803\n",
      "  -31.71802179  -54.25996787   -4.15643519  -48.50282088  -17.09827385\n",
      "  -49.25349753  -39.151743    -50.70915542   14.60989828  -39.41571186\n",
      "  -39.18936737  -49.94032767  -53.66002075  -30.1759528    25.96573085\n",
      "   25.80904024   40.28129018  -51.72072188  -45.1589747     5.70559551\n",
      "  -11.42523266  -58.09078934  -15.18878226  -27.74258402  -54.56728211\n",
      "  -38.75757481  -10.19657664   -1.2850549   -40.05113833   -5.69724081\n",
      "  -22.91926719  -52.33927763  -51.75113026  -20.23120738  -51.56632151\n",
      "  -44.76937942  -48.28939728  -36.99205784  -24.12849572  -16.98945224\n",
      "  -57.95895358  -27.47510728  -40.58036584  -36.82616392  -54.24150348\n",
      "  -50.48650095  -28.69175339  -25.69929689  -24.09091776  -36.71438907\n",
      "  -85.01877527   26.41287217  -30.11970328  -34.70015951  -33.10744863\n",
      "  -11.92834363   99.04259684   17.35672941  -47.37602261  -12.17410672\n",
      "  -52.28701398   -5.63251359  -35.3349704   -38.95852104  -57.93376302\n",
      "  -20.61675483  -62.63733264  -61.68368487  -64.79214094  -42.02930248\n",
      "  -41.23026892  -66.2394351   -16.56082313  -44.59456641  -49.41520666\n",
      "  -49.77658774  -58.19086648   41.14325007  -63.87086243  -38.35925207\n",
      "  -44.2328624   -15.48758063  -58.25895084  -32.28629555  -29.57510664\n",
      "   32.57165015  -56.71752246  -25.31734023  -61.98630452  -55.07392429\n",
      "  -62.22424655  -47.91399035  -41.36624665  -18.45936836   -6.01085658\n",
      "  -38.50837027    5.20650188   22.63317929  -31.73849817   26.66825431\n",
      "  -42.68170417   15.31205867  -21.66200685  -43.56227415  -55.26513711\n",
      "  -45.77949122  -55.28256607  -37.89401277   19.66997382   31.97491158\n",
      "  -44.52897547  -67.43694476  -16.19137548  -37.68540752  -50.56354488\n",
      "  -22.49932265  -12.36585019  -39.83964087  -55.80620104  -51.54119686\n",
      "  -19.39915372  -38.68325484  -30.31584632  -18.93527387  -54.26796689\n",
      "  -40.74192112   -3.85113393   -2.14354035  -44.8685128   -40.18548631\n",
      "  -49.88544892  -11.38228526  -52.15315734   -3.37918895  -14.84890572\n",
      "   -1.72265523  -52.47701491  -59.52221083    2.81663732    7.00122882\n",
      "  -37.93214516  -52.62846449  -48.41033823  -37.71777296  -30.6018176\n",
      "  -47.2990594   -54.46853748   -6.49735619  -49.44938098  -44.69322615\n",
      "  -34.84571725  -43.91936877  -54.9246189   -21.67897643  -45.15881386\n",
      "  -13.78933408  -39.99269338  -45.41048448  -38.47391953  -11.10373867\n",
      "  -16.39317457  -50.65281178   13.51473885  -45.87167752  -55.15903039\n",
      "  -56.14171844  -36.66944787  -63.76090302  -21.70591807  -57.24065154\n",
      "  -48.64645689  -46.18724598  -48.35402577  -61.32834027  -38.5531871\n",
      "  -55.6805034   -19.73733468  -45.27397155  -44.17388526  -16.70852693\n",
      "   17.09651014  -50.52498569   13.30447742  -47.77404527    9.6999451\n",
      "  -22.52114557   -4.40020875  -61.29867985    9.45040247   24.33529894\n",
      "  -41.26239792   17.11026075  -60.2944734    -4.13910661  -35.76409764\n",
      "  -66.28346628  -47.89553531  -37.00724454  -14.1884575    -3.43541746\n",
      "  -66.53366782  -45.97801724  -55.07214872  -28.74130478  -51.56300363\n",
      "  -68.83688701  -50.54254671  -43.37122391  -55.31691967  -34.96019648\n",
      "  -68.89091756  -42.64878611  -21.50234339]\n"
     ]
    }
   ],
   "source": [
    "y_pred=ml.predict(x_test)\n",
    "print(y_pred)"
   ]
  },
  {
   "cell_type": "code",
   "execution_count": 9,
   "metadata": {},
   "outputs": [
    {
     "data": {
      "text/plain": [
       "array([-11.74076169])"
      ]
     },
     "execution_count": 9,
     "metadata": {},
     "output_type": "execute_result"
    }
   ],
   "source": [
    "# Wisconsin\n",
    "HO=67.2\n",
    "MC=60.8\n",
    "PV=10.4\n",
    "BD=31.3\n",
    "DO=7.2\n",
    "WT=80.8\n",
    "BK=6.3\n",
    "NA=0.8\n",
    "AS=2.9\n",
    "HS=7.1\n",
    "FB=5.1\n",
    "\n",
    "\n",
    "ml.predict([[HO,MC,PV,BD,DO,WT,BK,NA,AS,HS,FB]])"
   ]
  },
  {
   "cell_type": "code",
   "execution_count": 10,
   "metadata": {},
   "outputs": [
    {
     "data": {
      "text/plain": [
       "array([-4.61768866])"
      ]
     },
     "execution_count": 10,
     "metadata": {},
     "output_type": "execute_result"
    }
   ],
   "source": [
    "# Mississippi\n",
    "HO=67.3\n",
    "MC=54\n",
    "PV=19.6\n",
    "BD=22.3\n",
    "DO=14.7\n",
    "WT=56.3\n",
    "BK=37.8\n",
    "NA=0.4\n",
    "AS=1\n",
    "HS=3\n",
    "FB=2.2\n",
    "\n",
    "ml.predict([[HO,MC,PV,BD,DO,WT,BK,NA,AS,HS,FB]])"
   ]
  },
  {
   "cell_type": "code",
   "execution_count": 13,
   "metadata": {},
   "outputs": [
    {
     "data": {
      "text/plain": [
       "array([25.47106733])"
      ]
     },
     "execution_count": 13,
     "metadata": {},
     "output_type": "execute_result"
    }
   ],
   "source": [
    "# California\n",
    "HO=54.9\n",
    "MC=60.7\n",
    "PV=11.8\n",
    "BD=35\n",
    "DO=16\n",
    "WT=36.3\n",
    "BK=5.5\n",
    "NA=0.4\n",
    "AS=14.7\n",
    "HS=39.4\n",
    "FB=26.7\n",
    "\n",
    "ml.predict([[HO,MC,PV,BD,DO,WT,BK,NA,AS,HS,FB]])"
   ]
  },
  {
   "cell_type": "code",
   "execution_count": 15,
   "metadata": {},
   "outputs": [
    {
     "data": {
      "text/plain": [
       "array([23.91478442])"
      ]
     },
     "execution_count": 15,
     "metadata": {},
     "output_type": "execute_result"
    }
   ],
   "source": [
    "# Massachusetts\n",
    "HO=62.2\n",
    "MC=59.4\n",
    "PV=9.4\n",
    "BD=45\n",
    "DO=8.7\n",
    "WT=70.3\n",
    "BK=7.1\n",
    "NA=0.2\n",
    "AS=6.8\n",
    "HS=12.4\n",
    "FB=17.3\n",
    "\n",
    "ml.predict([[HO,MC,PV,BD,DO,WT,BK,NA,AS,HS,FB]])"
   ]
  },
  {
   "cell_type": "code",
   "execution_count": 11,
   "metadata": {},
   "outputs": [
    {
     "data": {
      "text/plain": [
       "0.6835646822412846"
      ]
     },
     "execution_count": 11,
     "metadata": {},
     "output_type": "execute_result"
    }
   ],
   "source": [
    "from sklearn.metrics import r2_score\n",
    "r2_score(y_test,y_pred)"
   ]
  },
  {
   "cell_type": "code",
   "execution_count": 12,
   "metadata": {},
   "outputs": [
    {
     "data": {
      "text/plain": [
       "Text(0, 0.5, 'predicted')"
      ]
     },
     "execution_count": 12,
     "metadata": {},
     "output_type": "execute_result"
    },
    {
     "data": {
      "image/png": "[encoded data removed]",
      "text/plain": [
       "<Figure size 432x288 with 1 Axes>"
      ]
     },
     "metadata": {
      "needs_background": "light"
     },
     "output_type": "display_data"
    }
   ],
   "source": [
    "plt.scatter(y_test,y_pred,s=1)\n",
    "plt.xlabel(\"actual\")\n",
    "plt.ylabel(\"predicted\")"
   ]
  },
  {
   "cell_type": "code",
   "execution_count": null,
   "metadata": {},
   "outputs": [],
   "source": []
  }
 ],
 "metadata": {
  "kernelspec": {
   "display_name": "Python 3",
   "language": "python",
   "name": "python3"
  },
  "language_info": {
   "codemirror_mode": {
    "name": "ipython",
    "version": 3
   },
   "file_extension": ".py",
   "mimetype": "text/x-python",
   "name": "python",
   "nbconvert_exporter": "python",
   "pygments_lexer": "ipython3",
   "version": "3.8.5"
  }
 },
 "nbformat": 4,
 "nbformat_minor": 4
}
