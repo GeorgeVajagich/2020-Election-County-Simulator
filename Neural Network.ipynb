{
 "cells": [
  {
   "cell_type": "code",
   "execution_count": 1,
   "metadata": {},
   "outputs": [],
   "source": [
    "import matplotlib.pyplot as plt\n",
    "import numpy as np\n",
    "import csv\n",
    "import pandas as pd\n",
    "from sklearn.model_selection import train_test_split\n",
    "from sklearn.neural_network import MLPRegressor\n",
    "from sklearn.datasets import make_regression"
   ]
  },
  {
   "cell_type": "code",
   "execution_count": 2,
   "metadata": {},
   "outputs": [],
   "source": [
    "df = pd.read_csv(\"USA_Predictors_of_How_Counties_Vote.csv\") "
   ]
  },
  {
   "cell_type": "code",
   "execution_count": 3,
   "metadata": {},
   "outputs": [
    {
     "name": "stdout",
     "output_type": "stream",
     "text": [
      "      Margin D  % Home Ownership  % Married Couples  % Poverty  \\\n",
      "0       -44.42           73.2906            67.0875    15.1852   \n",
      "1       -53.76           75.2453            64.4356    10.3541   \n",
      "2        -7.66           60.8989            50.9544    30.6687   \n",
      "3       -57.73           74.4159            59.0777    18.1272   \n",
      "4       -80.00           78.7787            68.7730    13.5515   \n",
      "...        ...               ...                ...        ...   \n",
      "3107    -50.63           76.2224            66.4696    11.4554   \n",
      "3108     37.52           60.4058            58.2010     6.1497   \n",
      "3109    -62.81           77.0567            73.9561    11.3431   \n",
      "3110    -64.65           76.4933            67.9411    10.5055   \n",
      "3111    -77.56           83.0163            69.0714    14.4731   \n",
      "\n",
      "      % Bachelor's Degree or Higher  % Less than High School  \\\n",
      "0                           26.5716                  11.4834   \n",
      "1                           31.8625                   9.1938   \n",
      "2                           11.5787                  26.7869   \n",
      "3                           10.3785                  20.9426   \n",
      "4                           13.0934                  19.5094   \n",
      "...                             ...                      ...   \n",
      "3107                        22.4984                   7.2134   \n",
      "3108                        57.0051                   4.8144   \n",
      "3109                        16.0290                   7.2586   \n",
      "3110                        23.3862                  10.2416   \n",
      "3111                        19.9725                   6.3495   \n",
      "\n",
      "      % Non-Hispanic White  % Black  % Native  % Asian  % Hispanic  \\\n",
      "0                  74.6027  19.0033    0.2528   1.0347      2.8259   \n",
      "1                  83.0724   9.1740    0.6536   0.9186      4.5628   \n",
      "2                  45.8105  47.4390    0.2918   0.4771      4.3571   \n",
      "3                  74.5254  22.1447    0.1334   0.1200      2.5741   \n",
      "4                  86.8934   1.5274    0.0693   0.3675      9.2613   \n",
      "...                    ...      ...       ...      ...         ...   \n",
      "3107               79.5570   1.1213    1.0156   0.7399     15.8843   \n",
      "3108               81.3359   1.2414    0.3308   1.2500     15.0258   \n",
      "3109               87.5189   0.1123    0.6543   0.1563      9.1313   \n",
      "3110               81.8986   0.0374    0.5232   0.0000     14.2270   \n",
      "3111               96.3683   0.2270    0.1702   0.7661      1.0782   \n",
      "\n",
      "      % Foreign Born  \n",
      "0             2.3456  \n",
      "1             3.7232  \n",
      "2             2.7168  \n",
      "3             1.5116  \n",
      "4             4.5405  \n",
      "...              ...  \n",
      "3107          4.6713  \n",
      "3108         11.7784  \n",
      "3109          2.9005  \n",
      "3110          1.5572  \n",
      "3111          1.7024  \n",
      "\n",
      "[3112 rows x 12 columns]\n"
     ]
    }
   ],
   "source": [
    "print(df)"
   ]
  },
  {
   "cell_type": "code",
   "execution_count": 4,
   "metadata": {},
   "outputs": [],
   "source": [
    "x=df.drop([\"Margin D\"],axis=1).values\n",
    "y=df[\"Margin D\"].values"
   ]
  },
  {
   "cell_type": "code",
   "execution_count": 5,
   "metadata": {},
   "outputs": [
    {
     "name": "stdout",
     "output_type": "stream",
     "text": [
      "[-44.42 -53.76  -7.66 ... -62.81 -64.65 -77.56]\n"
     ]
    }
   ],
   "source": [
    "print(y)"
   ]
  },
  {
   "cell_type": "code",
   "execution_count": 6,
   "metadata": {},
   "outputs": [],
   "source": [
    "x_train,x_test,y_train,y_test,=train_test_split(x,y,test_size=0.2,random_state=0)"
   ]
  },
  {
   "cell_type": "code",
   "execution_count": 7,
   "metadata": {},
   "outputs": [],
   "source": [
    "regr = MLPRegressor(random_state=1, max_iter=500).fit(x_train, y_train)"
   ]
  },
  {
   "cell_type": "code",
   "execution_count": 8,
   "metadata": {},
   "outputs": [
    {
     "name": "stdout",
     "output_type": "stream",
     "text": [
      "[-3.04934621e+01 -3.21960392e+01 -4.17284932e+01 -4.44064589e+01\n",
      " -4.81448634e+01 -5.59073947e+01 -4.59982987e+01 -4.25081958e+01\n",
      " -1.54242340e+01 -5.02891743e+01 -5.79690464e+01 -5.97802183e+01\n",
      " -4.74914817e+01 -4.94152996e+01 -3.24790841e+01  2.59586804e+01\n",
      " -4.75105631e+01 -4.42818632e+01 -2.87739692e+01  1.73483197e+01\n",
      " -2.64140501e+01 -3.18667030e+01 -5.41155164e+01 -5.35279347e+01\n",
      " -6.04861654e+01  9.13578844e+00 -2.13540083e+01 -4.61521411e+01\n",
      " -3.52473592e-01 -4.77968031e+01 -4.25067204e+01 -1.28620084e+01\n",
      " -4.73909968e+01  2.01068674e+01 -5.03013375e+01 -5.70723832e+01\n",
      " -3.80359514e+01 -4.83690776e+01 -2.53909760e+01 -4.47415984e+01\n",
      " -4.55121070e+01 -6.99207515e+01 -2.26340245e+01 -4.43850423e+01\n",
      "  1.36236178e+01 -1.05652699e+01 -2.11158712e+01 -2.80665446e+01\n",
      " -4.31727362e+01 -4.65565219e+01 -4.73146035e+01 -4.27475558e+01\n",
      " -4.71965994e+01 -2.04250821e+00 -2.94930980e+01 -5.68105688e+01\n",
      "  1.89740346e+00 -4.78676924e+01 -3.38602651e+00 -4.04157505e+01\n",
      " -4.57704103e+01 -1.99670285e+00 -5.55666554e+01 -3.86927088e+01\n",
      "  3.89899244e+01 -1.56818745e+01 -3.58461038e+01 -6.06669300e+01\n",
      " -5.52960455e+01 -6.07385438e+01 -4.54365211e+01 -3.61842385e+01\n",
      " -3.22643274e+01 -3.87571191e+01 -1.43796295e+00 -4.36342077e+01\n",
      "  3.55095743e+01 -2.41619496e+01 -3.94344685e+01 -1.32041453e+01\n",
      "  3.95848949e+01 -4.39966726e+01 -4.00391160e+01 -5.43611795e+01\n",
      " -6.56646568e+00 -7.25664010e+00 -2.35711161e+01 -6.19273540e+01\n",
      " -3.36609429e+01 -3.59351766e+01 -4.76112982e+01 -4.84749629e+01\n",
      " -2.71009995e+01 -2.36157901e+01 -7.04598209e-01 -4.65501941e+01\n",
      " -3.57038914e+01  7.22387140e+01 -2.46099513e+01 -3.52362253e+01\n",
      " -5.21835061e+01 -1.11999634e+01 -4.65429679e+01 -5.13498219e+01\n",
      " -9.17904936e+00  4.47933789e+01 -4.06922561e+01 -3.66903750e+01\n",
      " -6.11986710e+01 -2.30056566e+01 -3.50655740e+01 -2.50624791e+01\n",
      " -5.78264262e+01 -4.15531818e+00 -4.93121753e+01 -6.67311100e+01\n",
      " -5.18593577e+01 -2.95448949e+01 -3.94384663e+01 -6.57093913e+01\n",
      " -1.57984638e+01 -4.94389911e+01 -2.50698606e+01 -4.41930797e+01\n",
      " -5.04369154e+01 -5.34664592e+01 -4.34847389e+01 -4.06539999e+01\n",
      " -2.32896818e+01 -2.17564594e+01 -5.72278142e+01  1.65862099e+01\n",
      " -5.34577875e+01 -2.01847935e+01 -3.36753557e+01 -1.61339738e+01\n",
      " -1.84349120e+01 -6.52063849e+01 -6.18504598e+01 -2.99266312e+01\n",
      " -5.84364898e+01 -4.20902404e+01 -5.07348859e+01 -3.46117761e+01\n",
      " -5.22976383e+01 -4.75481204e+00 -5.20231073e+01 -4.67246441e+01\n",
      " -4.69037928e+01 -2.39413692e+01 -3.87575816e+01 -5.12290973e+01\n",
      " -2.04796186e+01 -4.71714708e+01 -5.36724256e+01 -2.13170115e+01\n",
      " -5.04163954e+01 -4.36489538e+01 -6.32867307e+01 -2.58940214e+01\n",
      " -5.57928371e+01 -5.81451522e+01 -5.10590329e+01 -2.83247177e+01\n",
      "  8.68599780e+00 -5.42321188e+01 -3.26309199e+01  2.21231970e+01\n",
      "  1.17726076e+00 -2.12325429e+01 -3.30881811e+01  3.40145823e+00\n",
      " -2.61057896e+01 -6.07592199e+00  1.51965313e+01  3.53045711e-03\n",
      " -1.24554085e+01 -5.19425497e+01  2.45470343e+01 -1.58425084e+01\n",
      " -4.28664712e+01 -5.95616008e+01  3.15853558e+01 -2.17028057e+01\n",
      " -4.71594765e+01 -3.00492976e+01 -3.37151697e+01 -5.24437963e+01\n",
      " -6.55694220e+01 -2.72808593e+00 -5.12665138e+01 -4.02885384e+01\n",
      " -4.95000279e+01 -1.95164665e+01 -3.69728855e+01 -3.24658783e+01\n",
      " -6.41511211e+01 -5.52404075e+01 -1.90677611e+01 -4.21889004e+01\n",
      " -4.89896527e+01 -2.05406924e+00 -2.91829226e+01  2.08748080e+01\n",
      " -5.81257796e+01 -5.78349273e+01 -4.32576428e+01 -4.58093704e+01\n",
      " -3.35480357e+01  8.29197921e+00 -4.64923682e+01 -6.48525649e+01\n",
      " -3.49855961e+01 -5.25989477e+01 -1.77182207e+01 -4.09324995e+01\n",
      " -3.72734145e+01 -4.52749617e+01 -6.00761783e+01 -4.48955348e+01\n",
      " -6.60711888e+01 -5.94577403e+01 -1.15133750e+01 -4.73188156e+01\n",
      " -4.72317229e+01 -5.03632121e+01 -3.90988013e+01 -4.07807794e+01\n",
      " -3.31653309e+00 -4.26744826e+01 -3.75780407e+01 -5.00787372e+01\n",
      " -4.98369388e+01 -2.01257238e+01 -4.14374395e+01 -5.64153688e+01\n",
      " -4.84352515e+01  3.05588578e+01  1.66716100e+01 -2.28929564e+01\n",
      " -5.59252658e+01 -3.75351206e+01 -4.83219556e+01 -4.09730482e+01\n",
      " -6.97504616e+01 -4.04954716e+00  7.41650428e+00  2.21916958e+00\n",
      " -5.14969785e+01 -5.81957895e+01 -4.05622121e+01 -4.15424867e+01\n",
      " -3.40185908e+01 -4.96477234e+01 -1.82838326e+01 -4.90789075e+01\n",
      " -4.55352012e+01 -3.42722266e+01 -2.07371136e+01 -5.95560778e+01\n",
      " -4.84707992e+01 -3.20006203e+01  2.91518233e+01 -4.97635330e+01\n",
      " -5.77676863e+01 -3.68701890e+01  1.92976510e+00  4.68293065e+01\n",
      " -2.02382136e+00 -4.58128735e+01 -6.66968778e+01  3.86512210e+01\n",
      "  2.04113652e+00  4.60455467e+01 -3.42802135e+01 -4.76790848e+01\n",
      "  1.97980753e+00 -4.46332101e+01 -4.18524479e+01 -5.75251218e+01\n",
      " -4.49801863e+01 -5.34072612e+01 -5.71630594e+01 -2.01459930e+01\n",
      " -2.55794865e+00 -1.87181890e+01 -5.86277043e+01 -3.50076733e+01\n",
      " -5.93881055e+01  1.89662577e+01 -3.21733128e+01 -2.66586669e+01\n",
      " -3.16615867e+01 -4.71650186e+01  2.10126152e+01  1.88975879e+01\n",
      " -7.70623799e+00 -2.56292974e+01 -9.12493736e+01 -5.75175126e+01\n",
      " -5.46404040e+01 -5.75616043e+01 -5.00132977e+01 -2.27082334e+01\n",
      " -4.85679066e+01 -1.05034346e+01 -4.27676324e+01  2.72732418e+00\n",
      " -6.22210889e+01 -5.53935686e+01  1.30880004e+01 -4.51381199e+01\n",
      "  3.47167666e+01 -1.21984999e+01 -1.88798241e+01 -2.47948552e+01\n",
      " -4.23142637e+01  3.06135746e+01  7.10272797e+01 -6.00033754e+01\n",
      "  1.09997156e+01 -6.21825042e+01 -5.94393824e+01 -4.37039479e+01\n",
      " -6.42258014e+01 -5.33354324e+01 -2.42301385e+01 -3.13551166e+01\n",
      " -6.08295898e+01 -3.92379851e+01 -5.71257191e+01 -9.02706446e+00\n",
      " -2.29767256e+01 -4.80374518e+01 -6.11285594e+01 -5.23638575e+01\n",
      " -3.40996958e+01 -7.15675696e+00 -3.02283984e+01 -6.26871411e+01\n",
      " -3.83920506e+01 -5.83614726e+01 -3.99716211e+01 -4.68988270e+00\n",
      "  1.31047584e+01 -3.20568762e+01 -6.51892774e+01 -7.06701873e+01\n",
      " -5.33660015e+01 -3.05127187e+01 -4.14906630e+01 -3.33399322e+01\n",
      " -3.01727655e+01 -4.26299667e+01  5.29709437e+01 -3.98748020e+01\n",
      " -1.00204394e+01 -5.76815861e+01 -2.54727597e+01 -5.16613743e+01\n",
      "  1.52449934e+01 -1.85953867e+01 -4.47139789e+01 -5.77674367e+01\n",
      "  1.78017762e+01 -5.93620212e+01 -2.94003627e+01 -3.07793902e+01\n",
      " -3.57756519e+01 -6.63053599e+01 -6.59113193e+01 -1.51299923e+01\n",
      " -4.08608340e+01 -5.98496697e+00 -1.77384456e+01 -3.26153726e+00\n",
      "  2.74379502e+01 -2.56319222e+01 -3.07934141e+01 -6.66987053e+01\n",
      " -4.66947026e+01 -5.24290606e+01 -5.64363428e+01  1.41447196e+01\n",
      " -1.40280218e+01  3.02376342e+01 -2.00164249e+00 -2.64792975e+01\n",
      " -5.38058897e+01 -4.20557277e+00 -5.93485084e+00 -5.05877203e+01\n",
      " -4.14679060e+01 -4.33724993e+01 -7.40879549e+00 -5.20775913e+01\n",
      " -5.19785657e+01 -3.73106722e+01 -9.32530314e+00 -2.64612017e+01\n",
      " -3.45364140e+01  2.42027267e+01  4.99482503e+01 -5.63172540e+01\n",
      " -4.74596697e+00  1.91329415e+01 -3.24481109e+01  4.15315310e+01\n",
      " -4.91253187e+01 -5.97038558e+01 -3.45602355e+01 -4.82611724e+01\n",
      " -9.19177492e+00 -4.77953190e+01 -1.81160347e+01 -4.33975789e+01\n",
      " -4.80260237e+01 -4.43754535e+01  1.66759352e+01 -3.80549950e+01\n",
      " -5.35736933e+01 -4.71266262e+01 -5.45172007e+01 -3.64833278e+01\n",
      "  3.42329179e+01  4.19058370e+01  3.53492781e+01 -4.79585960e+01\n",
      " -4.18391288e+01  1.28023669e+01 -8.43049090e+00 -6.70141592e+01\n",
      " -1.21761891e+00 -2.50830667e+01 -5.02954821e+01 -5.91891285e+01\n",
      " -2.65736337e+01 -1.01760294e+01 -3.38027837e+01 -6.68448779e-01\n",
      " -2.51007583e+01 -5.35690362e+01 -5.40953887e+01 -2.67471084e+01\n",
      " -4.91807031e+01 -4.26906332e+01 -4.53625952e+01 -3.01204438e+01\n",
      " -3.87548825e+01 -4.67975625e+00 -4.98518471e+01 -3.42285719e+01\n",
      " -3.28725573e+01 -3.82105109e+01 -6.04318395e+01 -4.78324929e+01\n",
      " -3.77894989e+01 -2.39276380e+01 -2.39352826e+01 -4.53688510e+01\n",
      " -7.11429998e+01  3.24645237e+01 -4.42898527e+01 -3.58200814e+01\n",
      " -2.77097233e+01  8.12958090e-01  8.49301903e+01  3.22399943e+00\n",
      " -4.54918460e+01 -2.51123843e+01 -4.59504757e+01 -6.64326237e+00\n",
      " -3.66278581e+01 -3.82695042e+01 -4.55742490e+01 -1.88307577e+01\n",
      " -5.87259171e+01 -6.26125704e+01 -5.97762858e+01 -4.14984816e+01\n",
      " -5.53488306e+01 -6.16723538e+01 -6.14819962e+00 -4.42746552e+01\n",
      " -4.78881403e+01 -5.95650209e+01 -5.36077326e+01  5.34720110e+01\n",
      " -5.61088558e+01 -4.76231326e+01 -4.54085790e+01  8.53058278e+00\n",
      " -5.78748950e+01 -4.15040994e+01 -3.45853896e+01  2.86430686e+01\n",
      " -5.29565382e+01 -2.17918864e+01 -5.95581584e+01 -5.33235670e+01\n",
      " -5.82831466e+01 -4.70320693e+01 -3.92856938e+01 -4.94274999e+00\n",
      "  1.35667684e+01 -3.47293127e+01  9.91504940e+00  2.60983223e+01\n",
      " -3.63903695e+01  2.66553813e+01 -5.39547333e+01  1.70759229e+01\n",
      " -2.13599359e+01 -4.44239983e+01 -5.98442384e+01 -3.64608161e+01\n",
      " -5.28466769e+01 -3.23013607e+01  3.23029983e+01  3.95128537e+01\n",
      " -4.62454834e+01 -6.12562411e+01 -1.00360922e+01 -5.00955762e+01\n",
      " -4.29918572e+01 -1.58056024e+01 -1.67891548e+01 -2.89182360e+01\n",
      " -5.49466691e+01 -4.85010432e+01 -2.70206247e+01 -3.47136798e+01\n",
      " -4.01542979e+01 -1.85408231e+01 -5.19921399e+01 -4.48194269e+01\n",
      "  5.72744943e+00  4.39234515e+00 -4.01190968e+01 -4.35303831e+01\n",
      " -4.89256250e+01 -6.71007858e+00 -4.54166759e+01  2.64518616e+00\n",
      " -2.44370958e+01 -3.59877851e+00 -5.17195717e+01 -6.32622787e+01\n",
      "  1.17009435e+01 -2.13437333e+00 -4.23981291e+01 -6.04066572e+01\n",
      " -5.44606580e+01 -3.41686164e+01 -2.13871423e+01 -4.23196273e+01\n",
      " -4.80737437e+01 -8.47662945e+00 -6.20368915e+01 -5.06552130e+01\n",
      " -2.80186436e+01 -3.92500556e+01 -4.93394217e+01 -1.39120586e+01\n",
      " -5.05908623e+01 -2.15467253e+01 -3.81966415e+01 -4.89655852e+01\n",
      " -5.17772913e+01 -1.95416688e+01 -2.81228108e+01 -4.39722320e+01\n",
      "  1.58188624e+01 -4.46223398e+01 -5.20893119e+01 -5.07905890e+01\n",
      " -4.25684679e+01 -5.74519665e+01 -3.20656410e+01 -5.13222800e+01\n",
      " -6.27543058e+01 -4.76813125e+01 -4.50108888e+01 -5.75512209e+01\n",
      " -2.70945921e+01 -6.15520418e+01 -5.10765179e+00 -3.72918945e+01\n",
      " -4.49749195e+01 -1.10597567e+01  2.96322719e+01 -4.78189866e+01\n",
      "  1.54862572e+01 -4.84158544e+01  5.27368422e+00 -1.05499644e+01\n",
      " -4.92871583e+00 -6.76893967e+01  7.32996452e-01  2.91318933e+01\n",
      " -5.38239599e+01  1.61917167e+01 -5.42041379e+01 -1.60311944e+01\n",
      " -5.63585642e+01 -5.53806036e+01 -4.85639026e+01 -2.97856375e+01\n",
      " -5.38218508e+00  2.76855553e+01 -6.09006670e+01 -4.69184066e+01\n",
      " -4.55537425e+01 -3.67024324e+01 -4.22067989e+01 -5.49442452e+01\n",
      " -4.58821324e+01 -4.10895036e+01 -5.45838738e+01 -3.10726130e+01\n",
      " -6.44356929e+01 -5.11633419e+01 -1.95712226e+01]\n"
     ]
    }
   ],
   "source": [
    "y_pred=regr.predict(x_test)\n",
    "print(y_pred)"
   ]
  },
  {
   "cell_type": "code",
   "execution_count": 12,
   "metadata": {},
   "outputs": [
    {
     "data": {
      "text/plain": [
       "array([-14.11846481])"
      ]
     },
     "execution_count": 12,
     "metadata": {},
     "output_type": "execute_result"
    }
   ],
   "source": [
    "HO=60.9\n",
    "MC=54.9\n",
    "PV=19.4\n",
    "BD=18.1\n",
    "DO=14.2\n",
    "WT=53.4\n",
    "BK=30.4\n",
    "NA=0.3\n",
    "AS=1.2\n",
    "HS=11.9\n",
    "FB=6.8\n",
    "\n",
    "regr.predict([[HO,MC,PV,BD,DO,WT,BK,NA,AS,HS,FB]])"
   ]
  },
  {
   "cell_type": "code",
   "execution_count": 10,
   "metadata": {},
   "outputs": [
    {
     "data": {
      "text/plain": [
       "0.7480313564616383"
      ]
     },
     "execution_count": 10,
     "metadata": {},
     "output_type": "execute_result"
    }
   ],
   "source": [
    "from sklearn.metrics import r2_score\n",
    "r2_score(y_test,y_pred)"
   ]
  },
  {
   "cell_type": "code",
   "execution_count": 11,
   "metadata": {},
   "outputs": [
    {
     "data": {
      "text/plain": [
       "Text(0, 0.5, 'predicted')"
      ]
     },
     "execution_count": 11,
     "metadata": {},
     "output_type": "execute_result"
    },
    {
     "data": {
      "image/png": "[encoded data removed]",
      "text/plain": [
       "<Figure size 432x288 with 1 Axes>"
      ]
     },
     "metadata": {
      "needs_background": "light"
     },
     "output_type": "display_data"
    }
   ],
   "source": [
    "plt.scatter(y_test,y_pred,s=1)\n",
    "plt.xlabel(\"actual\")\n",
    "plt.ylabel(\"predicted\")"
   ]
  },
  {
   "cell_type": "code",
   "execution_count": null,
   "metadata": {},
   "outputs": [],
   "source": []
  }
 ],
 "metadata": {
  "kernelspec": {
   "display_name": "Python 3",
   "language": "python",
   "name": "python3"
  },
  "language_info": {
   "codemirror_mode": {
    "name": "ipython",
    "version": 3
   },
   "file_extension": ".py",
   "mimetype": "text/x-python",
   "name": "python",
   "nbconvert_exporter": "python",
   "pygments_lexer": "ipython3",
   "version": "3.8.5"
  }
 },
 "nbformat": 4,
 "nbformat_minor": 4
}
