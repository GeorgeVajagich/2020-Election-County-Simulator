{
 "cells": [
  {
   "cell_type": "code",
   "execution_count": 1,
   "metadata": {},
   "outputs": [],
   "source": [
    "import matplotlib.pyplot as plt\n",
    "import numpy as np\n",
    "import csv\n",
    "import pandas as pd\n",
    "from sklearn import svm\n",
    "from sklearn.model_selection import train_test_split"
   ]
  },
  {
   "cell_type": "code",
   "execution_count": 2,
   "metadata": {},
   "outputs": [],
   "source": [
    "df = pd.read_csv(\"USA_Predictors_of_How_Counties_Vote.csv\") "
   ]
  },
  {
   "cell_type": "code",
   "execution_count": 3,
   "metadata": {},
   "outputs": [
    {
     "name": "stdout",
     "output_type": "stream",
     "text": [
      "      Margin D  % Home Ownership  % Married Couples  % Poverty  \\\n",
      "0       -44.42           73.2906            67.0875    15.1852   \n",
      "1       -53.76           75.2453            64.4356    10.3541   \n",
      "2        -7.66           60.8989            50.9544    30.6687   \n",
      "3       -57.73           74.4159            59.0777    18.1272   \n",
      "4       -80.00           78.7787            68.7730    13.5515   \n",
      "...        ...               ...                ...        ...   \n",
      "3107    -50.63           76.2224            66.4696    11.4554   \n",
      "3108     37.52           60.4058            58.2010     6.1497   \n",
      "3109    -62.81           77.0567            73.9561    11.3431   \n",
      "3110    -64.65           76.4933            67.9411    10.5055   \n",
      "3111    -77.56           83.0163            69.0714    14.4731   \n",
      "\n",
      "      % Bachelor's Degree or Higher  % Less than High School  \\\n",
      "0                           26.5716                  11.4834   \n",
      "1                           31.8625                   9.1938   \n",
      "2                           11.5787                  26.7869   \n",
      "3                           10.3785                  20.9426   \n",
      "4                           13.0934                  19.5094   \n",
      "...                             ...                      ...   \n",
      "3107                        22.4984                   7.2134   \n",
      "3108                        57.0051                   4.8144   \n",
      "3109                        16.0290                   7.2586   \n",
      "3110                        23.3862                  10.2416   \n",
      "3111                        19.9725                   6.3495   \n",
      "\n",
      "      % Non-Hispanic White  % Black  % Native  % Asian  % Hispanic  \\\n",
      "0                  74.6027  19.0033    0.2528   1.0347      2.8259   \n",
      "1                  83.0724   9.1740    0.6536   0.9186      4.5628   \n",
      "2                  45.8105  47.4390    0.2918   0.4771      4.3571   \n",
      "3                  74.5254  22.1447    0.1334   0.1200      2.5741   \n",
      "4                  86.8934   1.5274    0.0693   0.3675      9.2613   \n",
      "...                    ...      ...       ...      ...         ...   \n",
      "3107               79.5570   1.1213    1.0156   0.7399     15.8843   \n",
      "3108               81.3359   1.2414    0.3308   1.2500     15.0258   \n",
      "3109               87.5189   0.1123    0.6543   0.1563      9.1313   \n",
      "3110               81.8986   0.0374    0.5232   0.0000     14.2270   \n",
      "3111               96.3683   0.2270    0.1702   0.7661      1.0782   \n",
      "\n",
      "      % Foreign Born  \n",
      "0             2.3456  \n",
      "1             3.7232  \n",
      "2             2.7168  \n",
      "3             1.5116  \n",
      "4             4.5405  \n",
      "...              ...  \n",
      "3107          4.6713  \n",
      "3108         11.7784  \n",
      "3109          2.9005  \n",
      "3110          1.5572  \n",
      "3111          1.7024  \n",
      "\n",
      "[3112 rows x 12 columns]\n"
     ]
    }
   ],
   "source": [
    "print(df)"
   ]
  },
  {
   "cell_type": "code",
   "execution_count": 4,
   "metadata": {},
   "outputs": [],
   "source": [
    "X=df.drop([\"Margin D\"],axis=1).values\n",
    "y=df[\"Margin D\"].values"
   ]
  },
  {
   "cell_type": "code",
   "execution_count": 5,
   "metadata": {},
   "outputs": [],
   "source": [
    "x_train,x_test,y_train,y_test,=train_test_split(X,y,test_size=0.2,random_state=0)"
   ]
  },
  {
   "cell_type": "code",
   "execution_count": 6,
   "metadata": {},
   "outputs": [
    {
     "data": {
      "text/plain": [
       "SVR()"
      ]
     },
     "execution_count": 6,
     "metadata": {},
     "output_type": "execute_result"
    }
   ],
   "source": [
    "regr = svm.SVR(kernel='rbf')\n",
    "regr.fit(X, y)"
   ]
  },
  {
   "cell_type": "code",
   "execution_count": 7,
   "metadata": {},
   "outputs": [
    {
     "name": "stdout",
     "output_type": "stream",
     "text": [
      "[-39.31036988 -32.47954967 -46.70839384 -43.83577283 -22.5774184\n",
      " -48.34519634 -45.03548035 -42.12724434 -33.22441399 -39.50333864\n",
      " -59.42986839 -48.31779727 -34.38631931 -46.99086213 -43.75565402\n",
      "  12.85506906 -48.44198433 -52.3593119  -33.76103337  -3.15989664\n",
      " -20.88918328 -31.75345682 -52.84157885 -56.11995397 -60.35704014\n",
      "  -8.19049318 -32.83649787 -44.46306201  -9.14421402 -48.99504445\n",
      " -45.58084746 -16.57705365 -50.53895031   3.59316275 -46.67337218\n",
      " -55.17585792 -38.82676059 -43.30592784 -25.72785708 -51.29894461\n",
      " -31.6152725  -63.06289767 -31.70452542 -36.35385655  -1.56966335\n",
      " -25.04773856 -34.45550961 -47.40376663 -41.55057384 -46.535964\n",
      " -38.78415155 -47.46931658 -50.07219427  -7.36772003 -22.40059629\n",
      " -56.91980819 -18.66430884 -42.80064558 -25.77518437 -43.03184256\n",
      " -48.76730591  -9.15905522 -40.69771953 -45.22119733  30.76328653\n",
      " -16.37937406 -37.03681883 -46.20709343 -47.97603262 -55.05281106\n",
      " -36.07197403 -40.23091887 -42.81212749 -36.5745227   -5.08710701\n",
      " -46.92971917  12.18326891 -27.56097716 -30.43905079 -20.25753193\n",
      "  21.69835166 -47.31164321 -34.75921156 -53.9666887  -36.6755746\n",
      " -10.24959852 -22.45770021 -61.49245929 -42.86135593 -26.27629963\n",
      " -51.69738433 -48.80962059 -33.17979496 -28.90542717  -0.40179498\n",
      " -49.8569572  -37.23950782  16.64363584 -21.72370497 -36.01602205\n",
      " -55.41828152 -24.28023235 -45.13250953 -43.08716278  -4.69663268\n",
      "  29.90082413 -39.46637469 -41.01044705 -60.45355287 -25.10080225\n",
      " -40.35450267 -33.83884137 -55.63076173  -0.37158178 -43.32516311\n",
      " -65.19608837 -51.07095195 -35.96211186 -29.92712176 -44.11514792\n",
      " -30.06341192 -54.11771973 -24.24696368 -45.73937421 -36.56309483\n",
      " -38.10393125 -47.1785571  -43.22439798 -43.12390811 -22.41070333\n",
      " -55.09354113   7.73586579 -53.65895872 -21.87131557 -33.88960575\n",
      " -14.35593579 -36.06953976 -48.85363918 -50.16115388 -21.90045602\n",
      " -60.52890534 -46.04831514 -51.85174373 -45.42598792 -49.04839059\n",
      " -16.9883995  -49.82261585 -41.36905772 -51.08762951 -26.22761458\n",
      " -38.22000874 -53.59356647 -25.31755356 -42.3474741  -42.56030219\n",
      " -36.29739995 -50.7639262  -35.05467771 -56.06662286 -28.63598702\n",
      " -43.08697777 -52.44508496 -53.32419975 -36.72750714 -16.94072828\n",
      " -48.79520242 -36.26839437  19.57137931 -21.47172614 -32.23635719\n",
      " -48.30188804 -13.91169344 -26.60994604  -5.91653579   2.50756839\n",
      " -18.92234558 -25.5994114  -51.36647396  -1.10985797 -27.17264607\n",
      " -42.69415168 -54.42492906  20.65935667 -36.57685614 -52.69037537\n",
      " -38.3119926  -36.43873287 -44.91792561 -49.11029348 -11.52247653\n",
      " -42.26345808 -43.15220657 -46.34971415 -22.06816035 -42.71332678\n",
      " -29.50342391 -50.88658992 -47.8260049  -21.68435522 -44.91896739\n",
      " -49.78249117  -8.68772505 -23.17116864  21.00044727 -50.06049166\n",
      " -58.51977515 -42.28248561 -44.26320678 -31.14632972  -6.33057936\n",
      " -51.36569938 -60.24191401 -31.29674465 -54.15029857 -30.03526643\n",
      " -47.90708186 -43.21761051 -51.49362937 -54.20858583 -40.99390278\n",
      " -61.32518031 -60.01926835 -23.99363636 -48.24640886 -44.73918836\n",
      " -47.22346234 -48.58483044 -35.13529015 -15.90920604 -36.38573196\n",
      " -42.89065826 -51.41400274 -39.1002803  -11.80451687 -45.19011595\n",
      " -37.78930216 -46.18130492   2.61770347  11.78254099 -19.04503476\n",
      " -49.25539282 -40.30835941 -48.58965055 -44.2306323  -50.06508987\n",
      " -10.67678195  -8.73462503  -6.50027806 -49.39972274 -57.87195399\n",
      " -41.97612773 -42.84423271 -25.57194086 -48.48919924 -30.90833746\n",
      " -50.53071246 -36.64960652 -33.90653157 -29.94691972 -59.18843022\n",
      " -52.21782358 -42.46774233  15.95252504 -56.0569231  -53.652393\n",
      " -33.24075653 -20.26638929  30.13028495 -16.04131342 -45.03305589\n",
      " -49.99330127  27.23965666   4.70404915  34.61363624 -43.60244506\n",
      " -48.92736345 -14.84541028 -51.53626983 -46.52103531 -56.67678453\n",
      " -48.88904667 -51.98964169 -47.25594971 -37.49569034 -22.91068264\n",
      " -28.68697186 -48.69819729 -44.51241903 -61.4377044    5.9104615\n",
      " -38.51217294 -46.48823407 -25.24482128 -48.91879111  10.42601166\n",
      " -14.74086538 -19.22452031 -31.43368301 -68.8265748  -54.54966358\n",
      " -48.47840697 -42.19117225 -51.47612038 -15.76995239 -51.7942331\n",
      "  -9.55218342 -45.14205977  -7.9069703  -62.91593643 -58.5051781\n",
      "  -1.61286463 -44.03730054   1.47289994 -20.30129682 -14.96494805\n",
      " -35.570183   -45.04123685  18.13152353  38.21785949 -58.65273848\n",
      " -11.54862363 -50.07485899 -56.06967176 -46.56944423 -41.65341797\n",
      " -53.31076402 -36.24102093 -39.11404119 -59.23322668 -44.74306269\n",
      " -52.96512435 -15.56953726 -15.46310554 -41.9259802  -47.28029267\n",
      " -51.57534638 -16.86605624 -19.08733371 -37.43001315 -60.28074869\n",
      " -31.11074686 -56.57547308 -43.1343665  -23.56264108   1.94257894\n",
      " -24.40075394 -47.92611027 -64.53972396 -54.38997047 -25.63705927\n",
      " -39.36120209 -43.31687889 -40.39648481 -32.5773345   34.24229049\n",
      " -43.40371552 -20.33686556 -38.41226436 -21.63731099 -52.9076973\n",
      "  -7.14148271 -31.60944108 -51.45223753 -56.05020789   8.75450506\n",
      " -47.67782798 -23.42313088 -38.98966569 -21.7478464  -63.51961237\n",
      " -59.96489751 -32.82329662 -47.24804746 -21.8801138  -29.19807174\n",
      " -11.99259037  16.18217776 -11.80989683 -38.5485689  -54.53638371\n",
      " -44.69040044 -44.4936774  -48.92170894   1.87123556 -14.12394595\n",
      "  23.99164481 -28.65443942 -27.88611178 -59.2126336  -17.47782363\n",
      " -18.2802175  -41.45097341 -45.7970207  -48.771701   -16.68831505\n",
      " -43.61242657 -47.18845888 -45.86960813 -25.47483483 -28.78566786\n",
      " -30.55390984  -0.84056554  21.65136541 -52.68698448 -17.15123128\n",
      "  -5.05817418 -36.94295607  22.30598092 -36.89000742 -59.07962112\n",
      " -30.81099165 -51.19433872  -9.44853967 -45.46971455 -26.34629145\n",
      " -46.71797601 -29.50543515 -49.05629483  -3.29061    -44.81248452\n",
      " -50.28491313 -48.55942797 -55.5719268  -32.73571862  23.53007451\n",
      "   7.94607755  19.93004297 -47.48987991 -47.142302    -4.19388487\n",
      " -22.81271657 -45.84420584 -23.32525546 -32.46797813 -51.76101401\n",
      " -36.24559908 -18.26520646 -19.73038297 -45.33674133 -13.47248695\n",
      " -19.87314289 -39.36692738 -42.40249075 -28.10696675 -49.52095351\n",
      " -42.37572481 -38.71202764 -44.60849607 -26.76536903 -24.31889898\n",
      " -47.70180837 -37.85373735 -36.14255604 -30.78096088 -47.14387579\n",
      " -48.15409554 -35.61580602 -31.91159011 -32.4226467  -26.93743482\n",
      " -66.45837488  14.83948751 -43.79480313 -21.08724511 -34.94259212\n",
      " -21.03267629  53.93097579   8.869221   -43.65843931 -20.37816984\n",
      " -44.63314031 -15.36450376 -32.04717266 -31.0158419  -37.19475747\n",
      " -21.71456365 -57.03661046 -51.02030716 -59.01410763 -42.91139644\n",
      " -42.16563593 -52.36823379 -22.14169216 -43.8435918  -45.70779223\n",
      " -49.57488153 -52.51264629  20.67688316 -51.29953567 -47.80264954\n",
      " -44.32725321   7.28670012 -48.05840467 -33.69648136 -33.55179322\n",
      "  19.77472814 -53.48690752 -30.84790059 -59.14615209 -52.76217284\n",
      " -51.76528415 -44.48894246 -38.42519448 -27.28133923  -3.1744433\n",
      " -46.561512    -6.38190634  10.5531071  -31.91058748  22.35485062\n",
      " -44.84996991  -0.74546274 -16.0220618  -43.87539497 -51.1675451\n",
      " -45.5218962  -43.66316452 -41.84512513  12.98808909  14.9384861\n",
      " -43.76873189 -55.73613373 -12.19420589 -36.9875557  -44.1324983\n",
      " -20.21140829 -22.41728909 -39.27139367 -53.80176131 -52.86310662\n",
      " -21.43462708 -45.36170431 -35.8035877  -16.18944165 -56.3180178\n",
      " -42.37650896 -16.77460733 -21.01557961 -46.70672452 -33.16186499\n",
      " -50.49395721 -27.47687926 -46.75539727   2.49529354 -19.48265035\n",
      "  -3.69669539 -53.37795177 -42.83459857   7.78828107  -3.67835436\n",
      " -49.71925944 -44.86710058 -48.94801444 -33.96179715 -35.42984989\n",
      " -43.78688223 -50.87881448 -22.14875833 -42.11401144 -49.43678129\n",
      " -45.59864613 -43.3300306  -48.03729917 -29.31949965 -47.90258916\n",
      " -20.63908162 -38.89547156 -51.0120628  -42.35456455 -22.29814564\n",
      " -28.90388029 -50.56050755   2.19030909 -44.45347525 -51.1191585\n",
      " -51.75343926 -42.89232941 -59.09700562 -33.525416   -58.469443\n",
      " -53.57153752 -49.86416971 -43.65949497 -42.7870957  -44.85332124\n",
      " -46.30865175 -24.00010776 -44.33896629 -49.73332444 -17.41369975\n",
      "  20.34494963 -49.71374242   1.1075031  -43.75810168   1.11626146\n",
      " -30.45020916 -12.00912054 -50.16942746   3.0689285    4.0091312\n",
      " -49.36343241   5.48760425 -49.90292145  -5.9601138  -45.47150936\n",
      " -56.03688673 -49.05380404 -36.76565537 -22.90477991   9.23906307\n",
      " -61.16901309 -45.65730875 -51.92924581 -32.71014371 -47.75067486\n",
      " -56.29741433 -47.93750955 -45.60846481 -41.47677714 -37.06803551\n",
      " -58.62076244 -50.03722592 -21.23537094]\n"
     ]
    }
   ],
   "source": [
    "y_pred=regr.predict(x_test)\n",
    "print(y_pred)"
   ]
  },
  {
   "cell_type": "code",
   "execution_count": 8,
   "metadata": {},
   "outputs": [
    {
     "data": {
      "text/plain": [
       "array([-21.63259833])"
      ]
     },
     "execution_count": 8,
     "metadata": {},
     "output_type": "execute_result"
    }
   ],
   "source": [
    "# Wisconsin\n",
    "HO=67.2\n",
    "MC=60.8\n",
    "PV=10.4\n",
    "BD=31.3\n",
    "DO=7.2\n",
    "WT=80.8\n",
    "BK=6.3\n",
    "NA=0.8\n",
    "AS=2.9\n",
    "HS=7.1\n",
    "FB=5.1\n",
    "\n",
    "\n",
    "regr.predict([[HO,MC,PV,BD,DO,WT,BK,NA,AS,HS,FB]])"
   ]
  },
  {
   "cell_type": "code",
   "execution_count": 9,
   "metadata": {},
   "outputs": [
    {
     "data": {
      "text/plain": [
       "array([-8.83309852])"
      ]
     },
     "execution_count": 9,
     "metadata": {},
     "output_type": "execute_result"
    }
   ],
   "source": [
    "# Mississippi\n",
    "HO=67.3\n",
    "MC=54\n",
    "PV=19.6\n",
    "BD=22.3\n",
    "DO=14.7\n",
    "WT=56.3\n",
    "BK=37.8\n",
    "NA=0.4\n",
    "AS=1\n",
    "HS=3\n",
    "FB=2.2\n",
    "\n",
    "\n",
    "regr.predict([[HO,MC,PV,BD,DO,WT,BK,NA,AS,HS,FB]])"
   ]
  },
  {
   "cell_type": "code",
   "execution_count": 10,
   "metadata": {},
   "outputs": [
    {
     "data": {
      "text/plain": [
       "array([10.93713825])"
      ]
     },
     "execution_count": 10,
     "metadata": {},
     "output_type": "execute_result"
    }
   ],
   "source": [
    "# California\n",
    "HO=54.9\n",
    "MC=60.7\n",
    "PV=11.8\n",
    "BD=35\n",
    "DO=16\n",
    "WT=36.3\n",
    "BK=5.5\n",
    "NA=0.4\n",
    "AS=14.7\n",
    "HS=39.4\n",
    "FB=26.7\n",
    "\n",
    "regr.predict([[HO,MC,PV,BD,DO,WT,BK,NA,AS,HS,FB]])"
   ]
  },
  {
   "cell_type": "code",
   "execution_count": 11,
   "metadata": {},
   "outputs": [
    {
     "data": {
      "text/plain": [
       "array([6.4175589])"
      ]
     },
     "execution_count": 11,
     "metadata": {},
     "output_type": "execute_result"
    }
   ],
   "source": [
    "# Massachusetts\n",
    "HO=62.2\n",
    "MC=59.4\n",
    "PV=9.4\n",
    "BD=45\n",
    "DO=8.7\n",
    "WT=70.3\n",
    "BK=7.1\n",
    "NA=0.2\n",
    "AS=6.8\n",
    "HS=12.4\n",
    "FB=17.3\n",
    "\n",
    "regr.predict([[HO,MC,PV,BD,DO,WT,BK,NA,AS,HS,FB]])"
   ]
  },
  {
   "cell_type": "code",
   "execution_count": null,
   "metadata": {},
   "outputs": [],
   "source": [
    "HO=60.9\n",
    "MC=54.9\n",
    "PV=19.4\n",
    "BD=18.1\n",
    "DO=14.2\n",
    "WT=53.4\n",
    "BK=30.4\n",
    "NA=0.3\n",
    "AS=1.2\n",
    "HS=11.9\n",
    "FB=6.8\n",
    "\n",
    "regr.predict([[HO,MC,PV,BD,DO,WT,BK,NA,AS,HS,FB]])"
   ]
  },
  {
   "cell_type": "code",
   "execution_count": 12,
   "metadata": {},
   "outputs": [
    {
     "data": {
      "text/plain": [
       "0.6568580013447833"
      ]
     },
     "execution_count": 12,
     "metadata": {},
     "output_type": "execute_result"
    }
   ],
   "source": [
    "from sklearn.metrics import r2_score\n",
    "r2_score(y_test,y_pred)"
   ]
  },
  {
   "cell_type": "code",
   "execution_count": 13,
   "metadata": {},
   "outputs": [
    {
     "data": {
      "text/plain": [
       "Text(0, 0.5, 'predicted')"
      ]
     },
     "execution_count": 13,
     "metadata": {},
     "output_type": "execute_result"
    },
    {
     "data": {
      "image/png": "[encoded data removed]",
      "text/plain": [
       "<Figure size 432x288 with 1 Axes>"
      ]
     },
     "metadata": {
      "needs_background": "light"
     },
     "output_type": "display_data"
    }
   ],
   "source": [
    "plt.scatter(y_test,y_pred,s=1)\n",
    "plt.xlabel(\"actual\")\n",
    "plt.ylabel(\"predicted\")"
   ]
  },
  {
   "cell_type": "code",
   "execution_count": null,
   "metadata": {},
   "outputs": [],
   "source": []
  }
 ],
 "metadata": {
  "kernelspec": {
   "display_name": "Python 3",
   "language": "python",
   "name": "python3"
  },
  "language_info": {
   "codemirror_mode": {
    "name": "ipython",
    "version": 3
   },
   "file_extension": ".py",
   "mimetype": "text/x-python",
   "name": "python",
   "nbconvert_exporter": "python",
   "pygments_lexer": "ipython3",
   "version": "3.8.5"
  }
 },
 "nbformat": 4,
 "nbformat_minor": 4
}
